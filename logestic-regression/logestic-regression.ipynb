{
 "cells": [
  {
   "cell_type": "markdown",
   "id": "813b31ff",
   "metadata": {},
   "source": [
    "## Classificatio\n",
    "\n",
    "<div dir=rtl style=\"text-align: left\">\n",
    "\n",
    "هدف: ساخت یک مدل برای تشخیص پیام‌های اسپم و غیر اسپم با استفاده از الگوریتم‌های Logistic Regression و Random Forest.\n",
    "\n",
    "</div>"
   ]
  },
  {
   "cell_type": "code",
   "execution_count": 286,
   "id": "08c0046a",
   "metadata": {},
   "outputs": [],
   "source": [
    "# =====================\n",
    "# import libraries\n",
    "# =====================\n",
    "\n",
    "import pandas as pd\n",
    "import numpy as np\n",
    "import matplotlib.pyplot as plt\n",
    "import seaborn as sns\n",
    "from sklearn.model_selection import train_test_split\n",
    "from sklearn.linear_model import LogisticRegression\n",
    "from sklearn.ensemble import RandomForestClassifier\n",
    "from sklearn.metrics import accuracy_score, confusion_matrix, classification_report\n",
    "from sklearn.feature_extraction.text import TfidfVectorizer"
   ]
  },
  {
   "cell_type": "code",
   "execution_count": 294,
   "id": "9a066f66",
   "metadata": {},
   "outputs": [],
   "source": [
    "# =====================\n",
    "# load dataset\n",
    "# =====================\n",
    "\n",
    "# Load the dataset\n",
    "df = pd.read_csv('SMSSpamCollection.csv', sep='\\t', header=None, names=[\"label\", \"message\"])\n"
   ]
  },
  {
   "cell_type": "code",
   "execution_count": 288,
   "id": "91765195",
   "metadata": {},
   "outputs": [
    {
     "name": "stdout",
     "output_type": "stream",
     "text": [
      "First rows of the dataset:\n",
      "  label                                            message\n",
      "0   ham  Go until jurong point, crazy.. Available only ...\n",
      "1   ham                      Ok lar... Joking wif u oni...\n",
      "2  spam  Free entry in 2 a wkly comp to win FA Cup fina...\n",
      "3   ham  U dun say so early hor... U c already then say...\n",
      "4   ham  Nah I don't think he goes to usf, he lives aro...\n",
      "Shape of the dataset:\n",
      "(5572, 2)\n",
      "Columns and data types:\n",
      "label      object\n",
      "message    object\n",
      "dtype: object\n"
     ]
    }
   ],
   "source": [
    "# =====================\n",
    "# print info\n",
    "# =====================\n",
    "\n",
    "print('First rows of the dataset:')\n",
    "print(df.head())\n",
    "\n",
    "print('Shape of the dataset:')\n",
    "print(df.shape)\n",
    "\n",
    "print('Columns and data types:')\n",
    "print(df.dtypes)"
   ]
  },
  {
   "cell_type": "code",
   "execution_count": 289,
   "id": "882578b2",
   "metadata": {},
   "outputs": [
    {
     "name": "stdout",
     "output_type": "stream",
     "text": [
      "Missing values:\n",
      "label      0\n",
      "message    0\n",
      "dtype: int64\n",
      "0\n"
     ]
    }
   ],
   "source": [
    "# =====================\n",
    "# Preprocessing\n",
    "# =====================\n",
    "\n",
    "# Convert labels into numeric values (spam = 1, ham = 0)\n",
    "df['label'] = df['label'].map({'spam': 1, 'ham': 0})\n",
    "\n",
    "# Check for missing values\n",
    "print(\"Missing values:\")\n",
    "print(df.isna().sum())\n",
    "print(df['label'].isna().sum())\n",
    "\n"
   ]
  },
  {
   "cell_type": "code",
   "execution_count": 290,
   "id": "9f3d56a2",
   "metadata": {},
   "outputs": [],
   "source": [
    "# =====================\n",
    "# Text vectorization\n",
    "# =====================\n",
    "\n",
    "# Use TfidfVectorizer to convert text messages to numerical features\n",
    "vectorizer = TfidfVectorizer(stop_words='english')\n",
    "X = vectorizer.fit_transform(df['message'])\n",
    "\n",
    "# Define target variable\n",
    "y = df['label']"
   ]
  },
  {
   "cell_type": "code",
   "execution_count": 291,
   "id": "d50cc81e",
   "metadata": {},
   "outputs": [
    {
     "name": "stdout",
     "output_type": "stream",
     "text": [
      "Training set size: 4457 samples\n",
      "Test set size: 1115 samples\n"
     ]
    }
   ],
   "source": [
    "# =====================\n",
    "# Train-Test Split\n",
    "# =====================\n",
    "\n",
    "# Split the data into training and test sets (80% train, 20% test)\n",
    "X_train, X_test, y_train, y_test = train_test_split(X, y, test_size=0.2)\n",
    "\n",
    "print(f\"Training set size: {X_train.shape[0]} samples\")\n",
    "print(f\"Test set size: {X_test.shape[0]} samples\")"
   ]
  },
  {
   "cell_type": "code",
   "execution_count": 292,
   "id": "db4cbe8b",
   "metadata": {},
   "outputs": [
    {
     "name": "stdout",
     "output_type": "stream",
     "text": [
      "Logistic Regression Evaluation:\n",
      "Accuracy: 0.9767\n",
      "Confusion Matrix:\n",
      "[[955  11]\n",
      " [ 15 134]]\n",
      "Classification Report:\n",
      "              precision    recall  f1-score   support\n",
      "\n",
      "           0       0.98      0.99      0.99       966\n",
      "           1       0.92      0.90      0.91       149\n",
      "\n",
      "    accuracy                           0.98      1115\n",
      "   macro avg       0.95      0.94      0.95      1115\n",
      "weighted avg       0.98      0.98      0.98      1115\n",
      "\n"
     ]
    }
   ],
   "source": [
    "# =====================\n",
    "# Logistic Regression Model\n",
    "# =====================\n",
    "\n",
    "# Initialize Logistic Regression model\n",
    "logreg_model = LogisticRegression(max_iter=1000, class_weight='balanced')\n",
    "\n",
    "# Train the model\n",
    "logreg_model.fit(X_train, y_train)\n",
    "\n",
    "# Make predictions on the test set\n",
    "y_pred_logreg = logreg_model.predict(X_test)\n",
    "\n",
    "# Evaluate the model\n",
    "print(\"Logistic Regression Evaluation:\")\n",
    "print(f\"Accuracy: {accuracy_score(y_test, y_pred_logreg):.4f}\")\n",
    "print(\"Confusion Matrix:\")\n",
    "print(confusion_matrix(y_test, y_pred_logreg))\n",
    "print(\"Classification Report:\")\n",
    "print(classification_report(y_test, y_pred_logreg))\n"
   ]
  }
 ],
 "metadata": {
  "kernelspec": {
   "display_name": "practices",
   "language": "python",
   "name": "python3"
  },
  "language_info": {
   "codemirror_mode": {
    "name": "ipython",
    "version": 3
   },
   "file_extension": ".py",
   "mimetype": "text/x-python",
   "name": "python",
   "nbconvert_exporter": "python",
   "pygments_lexer": "ipython3",
   "version": "3.13.2"
  }
 },
 "nbformat": 4,
 "nbformat_minor": 5
}
