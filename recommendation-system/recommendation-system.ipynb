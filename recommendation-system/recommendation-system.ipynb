{
 "cells": [
  {
   "cell_type": "markdown",
   "id": "1c76206a",
   "metadata": {},
   "source": [
    "# recommendation system\n",
    "\n",
    "<div dir=rtl style=\"text-align: left\">\n",
    "هدف: \n",
    "</div>\n"
   ]
  },
  {
   "cell_type": "code",
   "execution_count": 10,
   "id": "d75e8e3c",
   "metadata": {},
   "outputs": [],
   "source": [
    "# =====================\n",
    "# import libraries\n",
    "# =====================\n",
    "\n",
    "import pandas as pd\n",
    "from sklearn.model_selection import train_test_split\n",
    "from sklearn.preprocessing import LabelEncoder  \n",
    "from sklearn.preprocessing import LabelEncoder\n",
    "import tensorflow as tf\n",
    "from keras import layers, models\n",
    "import tensorflow as tf\n",
    "from tensorflow import keras\n",
    "# from tensorflow.keras import layers\n"
   ]
  },
  {
   "cell_type": "code",
   "execution_count": 11,
   "id": "420d6445",
   "metadata": {},
   "outputs": [],
   "source": [
    "# =====================\n",
    "# load dataset\n",
    "# =====================\n",
    "\n",
    "df = pd.read_csv('u.data', sep='\\t', names=['user_id', 'movie_id', 'rating', 'timestamp'])"
   ]
  },
  {
   "cell_type": "code",
   "execution_count": 12,
   "id": "163927a4",
   "metadata": {},
   "outputs": [
    {
     "name": "stdout",
     "output_type": "stream",
     "text": [
      "first rows\n",
      "   user_id  movie_id  rating  timestamp\n",
      "0      196       242       3  881250949\n",
      "1      186       302       3  891717742\n",
      "2       22       377       1  878887116\n",
      "3      244        51       2  880606923\n",
      "4      166       346       1  886397596\n",
      "shape\n",
      "(100000, 4)\n",
      "columns\n"
     ]
    },
    {
     "data": {
      "text/plain": [
       "user_id      int64\n",
       "movie_id     int64\n",
       "rating       int64\n",
       "timestamp    int64\n",
       "dtype: object"
      ]
     },
     "execution_count": 12,
     "metadata": {},
     "output_type": "execute_result"
    }
   ],
   "source": [
    "# =====================\n",
    "# print info\n",
    "# =====================\n",
    "\n",
    "print('first rows')\n",
    "print(df.head())\n",
    "\n",
    "print('shape')\n",
    "print(df.shape)\n",
    "\n",
    "print('columns')\n",
    "df.dtypes"
   ]
  },
  {
   "cell_type": "code",
   "execution_count": 13,
   "id": "06abfb7a",
   "metadata": {},
   "outputs": [
    {
     "name": "stdout",
     "output_type": "stream",
     "text": [
      "   user_id  movie_id  rating  timestamp  user  item\n",
      "0      196       242       3  881250949   195   241\n",
      "1      186       302       3  891717742   185   301\n",
      "2       22       377       1  878887116    21   376\n",
      "3      244        51       2  880606923   243    50\n",
      "4      166       346       1  886397596   165   345\n"
     ]
    }
   ],
   "source": [
    "# =====================\n",
    "# preprocessing\n",
    "# =====================\n",
    "\n",
    "# Encoding user_id and movie_id to consecutive numbers (for Embedding)\n",
    "user_encoder = LabelEncoder()\n",
    "item_encoder = LabelEncoder()\n",
    "\n",
    "df['user'] = user_encoder.fit_transform(df['user_id'])\n",
    "df['item'] = item_encoder.fit_transform(df['movie_id'])\n",
    "\n",
    "num_users = df['user'].nunique()\n",
    "num_items = df['item'].nunique()\n",
    "\n",
    "# Show the first few rows of the modified dataset\n",
    "print(df.head())"
   ]
  },
  {
   "cell_type": "code",
   "execution_count": 14,
   "id": "4cb66dc1",
   "metadata": {},
   "outputs": [
    {
     "data": {
      "text/html": [
       "<div>\n",
       "<style scoped>\n",
       "    .dataframe tbody tr th:only-of-type {\n",
       "        vertical-align: middle;\n",
       "    }\n",
       "\n",
       "    .dataframe tbody tr th {\n",
       "        vertical-align: top;\n",
       "    }\n",
       "\n",
       "    .dataframe thead th {\n",
       "        text-align: right;\n",
       "    }\n",
       "</style>\n",
       "<table border=\"1\" class=\"dataframe\">\n",
       "  <thead>\n",
       "    <tr style=\"text-align: right;\">\n",
       "      <th></th>\n",
       "      <th>user_id</th>\n",
       "      <th>user</th>\n",
       "    </tr>\n",
       "  </thead>\n",
       "  <tbody>\n",
       "    <tr>\n",
       "      <th>202</th>\n",
       "      <td>1</td>\n",
       "      <td>0</td>\n",
       "    </tr>\n",
       "    <tr>\n",
       "      <th>700</th>\n",
       "      <td>2</td>\n",
       "      <td>1</td>\n",
       "    </tr>\n",
       "    <tr>\n",
       "      <th>1257</th>\n",
       "      <td>3</td>\n",
       "      <td>2</td>\n",
       "    </tr>\n",
       "    <tr>\n",
       "      <th>1250</th>\n",
       "      <td>4</td>\n",
       "      <td>3</td>\n",
       "    </tr>\n",
       "    <tr>\n",
       "      <th>172</th>\n",
       "      <td>5</td>\n",
       "      <td>4</td>\n",
       "    </tr>\n",
       "    <tr>\n",
       "      <th>9</th>\n",
       "      <td>6</td>\n",
       "      <td>5</td>\n",
       "    </tr>\n",
       "    <tr>\n",
       "      <th>39</th>\n",
       "      <td>7</td>\n",
       "      <td>6</td>\n",
       "    </tr>\n",
       "    <tr>\n",
       "      <th>90</th>\n",
       "      <td>8</td>\n",
       "      <td>7</td>\n",
       "    </tr>\n",
       "    <tr>\n",
       "      <th>1892</th>\n",
       "      <td>9</td>\n",
       "      <td>8</td>\n",
       "    </tr>\n",
       "    <tr>\n",
       "      <th>40</th>\n",
       "      <td>10</td>\n",
       "      <td>9</td>\n",
       "    </tr>\n",
       "    <tr>\n",
       "      <th>88</th>\n",
       "      <td>11</td>\n",
       "      <td>10</td>\n",
       "    </tr>\n",
       "    <tr>\n",
       "      <th>2169</th>\n",
       "      <td>12</td>\n",
       "      <td>11</td>\n",
       "    </tr>\n",
       "    <tr>\n",
       "      <th>63</th>\n",
       "      <td>13</td>\n",
       "      <td>12</td>\n",
       "    </tr>\n",
       "    <tr>\n",
       "      <th>257</th>\n",
       "      <td>14</td>\n",
       "      <td>13</td>\n",
       "    </tr>\n",
       "    <tr>\n",
       "      <th>206</th>\n",
       "      <td>15</td>\n",
       "      <td>14</td>\n",
       "    </tr>\n",
       "  </tbody>\n",
       "</table>\n",
       "</div>"
      ],
      "text/plain": [
       "      user_id  user\n",
       "202         1     0\n",
       "700         2     1\n",
       "1257        3     2\n",
       "1250        4     3\n",
       "172         5     4\n",
       "9           6     5\n",
       "39          7     6\n",
       "90          8     7\n",
       "1892        9     8\n",
       "40         10     9\n",
       "88         11    10\n",
       "2169       12    11\n",
       "63         13    12\n",
       "257        14    13\n",
       "206        15    14"
      ]
     },
     "execution_count": 14,
     "metadata": {},
     "output_type": "execute_result"
    }
   ],
   "source": [
    "df[['user_id', 'user']].drop_duplicates().sort_values('user_id').head(15)\n"
   ]
  },
  {
   "cell_type": "code",
   "execution_count": 15,
   "id": "f97ed393",
   "metadata": {},
   "outputs": [
    {
     "name": "stdout",
     "output_type": "stream",
     "text": [
      "   user_id  movie_id  rating  timestamp  user  item\n",
      "0      196       242       3  881250949   195   241\n",
      "1      186       302       3  891717742   185   301\n",
      "2       22       377       1  878887116    21   376\n",
      "3      244        51       2  880606923   243    50\n",
      "4      166       346       1  886397596   165   345\n"
     ]
    }
   ],
   "source": [
    "print(df.head())"
   ]
  },
  {
   "cell_type": "code",
   "execution_count": 16,
   "id": "228c9b0b",
   "metadata": {},
   "outputs": [
    {
     "name": "stdout",
     "output_type": "stream",
     "text": [
      "Train size: 80000, Test size: 20000\n"
     ]
    }
   ],
   "source": [
    "# =====================\n",
    "# Train-Test Split\n",
    "# =====================\n",
    "\n",
    "# 3. Splitting into train and test sets\n",
    "train, test = train_test_split(df[['user', 'item', 'rating']], test_size=0.2, random_state=42)\n",
    "\n",
    "# Print the size of the train and test datasets\n",
    "print(f'Train size: {len(train)}, Test size: {len(test)}')\n"
   ]
  },
  {
   "cell_type": "code",
   "execution_count": null,
   "id": "a192fb2f",
   "metadata": {},
   "outputs": [
    {
     "name": "stdout",
     "output_type": "stream",
     "text": [
      "<KerasTensor shape=(None, 1), dtype=float32, sparse=False, ragged=False, name=user_input>\n",
      "<KerasTensor shape=(None, 1), dtype=float32, sparse=False, ragged=False, name=item_input>\n"
     ]
    }
   ],
   "source": [
    "# =====================\n",
    "# Generate Network\n",
    "# =====================\n",
    "\n",
    "\n",
    "# Input layers\n",
    "user_input = keras.Input(shape=(1,), name='user_input')\n",
    "item_input = keras.Input(shape=(1,), name='item_input')\n",
    "\n"
   ]
  },
  {
   "cell_type": "code",
   "execution_count": null,
   "id": "1a6b5f3e",
   "metadata": {},
   "outputs": [],
   "source": [
    "# Embedding layers\n",
    "embedding_dim = 32\n",
    "\n",
    "user_embedding = layers.Embedding(input_dim=num_users, output_dim=embedding_dim, name='user_embedding')(user_input)\n",
    "item_embedding = layers.Embedding(input_dim=num_items, output_dim=embedding_dim, name='item_embedding')(item_input)\n",
    "\n",
    "# Flatten the embeddings\n",
    "user_vec = layers.Flatten()(user_embedding)\n",
    "item_vec = layers.Flatten()(item_embedding)\n",
    "\n",
    "# Concatenate user and item embeddings\n",
    "concat = layers.Concatenate()([user_vec, item_vec])\n",
    "\n",
    "# MLP layers (Multi-Layer Perceptron)\n",
    "x = layers.Dense(64, activation='relu')(concat)\n",
    "x = layers.Dense(32, activation='relu')(x)\n",
    "x = layers.Dense(16, activation='relu')(x)\n",
    "\n",
    "# Output layer\n",
    "output = layers.Dense(1, activation='linear', name='prediction')(x)\n",
    "\n",
    "# Define the model\n",
    "model = keras.Model(inputs=[user_input, item_input], outputs=output)\n",
    "\n",
    "# Compile the model\n",
    "model.compile(optimizer='adam', loss='mse', metrics=['mae'])\n",
    "\n",
    "# Show model summary\n",
    "model.summary()"
   ]
  },
  {
   "cell_type": "code",
   "execution_count": 27,
   "id": "312b99fc",
   "metadata": {},
   "outputs": [
    {
     "name": "stdout",
     "output_type": "stream",
     "text": [
      "Epoch 1/10\n",
      "\u001b[1m1125/1125\u001b[0m \u001b[32m━━━━━━━━━━━━━━━━━━━━\u001b[0m\u001b[37m\u001b[0m \u001b[1m2s\u001b[0m 1ms/step - loss: 2.9915 - mae: 1.2620 - val_loss: 0.9273 - val_mae: 0.7718\n",
      "Epoch 2/10\n",
      "\u001b[1m1125/1125\u001b[0m \u001b[32m━━━━━━━━━━━━━━━━━━━━\u001b[0m\u001b[37m\u001b[0m \u001b[1m1s\u001b[0m 920us/step - loss: 0.8768 - mae: 0.7424 - val_loss: 0.8985 - val_mae: 0.7556\n",
      "Epoch 3/10\n",
      "\u001b[1m1125/1125\u001b[0m \u001b[32m━━━━━━━━━━━━━━━━━━━━\u001b[0m\u001b[37m\u001b[0m \u001b[1m1s\u001b[0m 891us/step - loss: 0.8518 - mae: 0.7285 - val_loss: 0.8975 - val_mae: 0.7579\n",
      "Epoch 4/10\n",
      "\u001b[1m1125/1125\u001b[0m \u001b[32m━━━━━━━━━━━━━━━━━━━━\u001b[0m\u001b[37m\u001b[0m \u001b[1m1s\u001b[0m 900us/step - loss: 0.8061 - mae: 0.7060 - val_loss: 0.8870 - val_mae: 0.7395\n",
      "Epoch 5/10\n",
      "\u001b[1m1125/1125\u001b[0m \u001b[32m━━━━━━━━━━━━━━━━━━━━\u001b[0m\u001b[37m\u001b[0m \u001b[1m1s\u001b[0m 904us/step - loss: 0.7725 - mae: 0.6901 - val_loss: 0.8713 - val_mae: 0.7369\n",
      "Epoch 6/10\n",
      "\u001b[1m1125/1125\u001b[0m \u001b[32m━━━━━━━━━━━━━━━━━━━━\u001b[0m\u001b[37m\u001b[0m \u001b[1m1s\u001b[0m 948us/step - loss: 0.7294 - mae: 0.6692 - val_loss: 0.8697 - val_mae: 0.7337\n",
      "Epoch 7/10\n",
      "\u001b[1m1125/1125\u001b[0m \u001b[32m━━━━━━━━━━━━━━━━━━━━\u001b[0m\u001b[37m\u001b[0m \u001b[1m1s\u001b[0m 929us/step - loss: 0.6914 - mae: 0.6503 - val_loss: 0.8816 - val_mae: 0.7389\n",
      "Epoch 8/10\n",
      "\u001b[1m1125/1125\u001b[0m \u001b[32m━━━━━━━━━━━━━━━━━━━━\u001b[0m\u001b[37m\u001b[0m \u001b[1m1s\u001b[0m 906us/step - loss: 0.6408 - mae: 0.6232 - val_loss: 0.9070 - val_mae: 0.7521\n",
      "Epoch 9/10\n",
      "\u001b[1m1125/1125\u001b[0m \u001b[32m━━━━━━━━━━━━━━━━━━━━\u001b[0m\u001b[37m\u001b[0m \u001b[1m1s\u001b[0m 913us/step - loss: 0.5952 - mae: 0.5996 - val_loss: 0.9142 - val_mae: 0.7478\n",
      "Epoch 10/10\n",
      "\u001b[1m1125/1125\u001b[0m \u001b[32m━━━━━━━━━━━━━━━━━━━━\u001b[0m\u001b[37m\u001b[0m \u001b[1m1s\u001b[0m 913us/step - loss: 0.5544 - mae: 0.5788 - val_loss: 0.9420 - val_mae: 0.7594\n",
      "Training completed!\n"
     ]
    }
   ],
   "source": [
    "# =====================\n",
    "# Train Model\n",
    "# =====================\n",
    "\n",
    "# Prepare the data for training\n",
    "train_user = train['user'].values\n",
    "train_item = train['item'].values\n",
    "train_rating = train['rating'].values\n",
    "\n",
    "# Train the model\n",
    "history = model.fit(\n",
    "    [train_user, train_item], \n",
    "    train_rating, \n",
    "    epochs=10,  # You can adjust the number of epochs\n",
    "    batch_size=64,  # You can adjust the batch size\n",
    "    validation_split=0.1,  # 10% of data for validation\n",
    "    verbose=1\n",
    ")\n",
    "\n",
    "# Print the training history\n",
    "print(\"Training completed!\")\n"
   ]
  },
  {
   "cell_type": "code",
   "execution_count": 28,
   "id": "b49d0c8a",
   "metadata": {},
   "outputs": [
    {
     "name": "stdout",
     "output_type": "stream",
     "text": [
      "\u001b[1m625/625\u001b[0m \u001b[32m━━━━━━━━━━━━━━━━━━━━\u001b[0m\u001b[37m\u001b[0m \u001b[1m1s\u001b[0m 645us/step - loss: 0.9210 - mae: 0.7516\n",
      "Test Loss (MSE): 0.9417839050292969\n",
      "Test MAE: 0.7581946849822998\n"
     ]
    }
   ],
   "source": [
    "# 13. Prepare the data for testing\n",
    "test_user = test['user'].values\n",
    "test_item = test['item'].values\n",
    "test_rating = test['rating'].values\n",
    "\n",
    "# 14. Evaluate the model on test data\n",
    "test_loss, test_mae = model.evaluate(\n",
    "    [test_user, test_item], \n",
    "    test_rating, \n",
    "    verbose=1\n",
    ")\n",
    "\n",
    "print(f'Test Loss (MSE): {test_loss}')\n",
    "print(f'Test MAE: {test_mae}')\n"
   ]
  }
 ],
 "metadata": {
  "kernelspec": {
   "display_name": "practices",
   "language": "python",
   "name": "python3"
  },
  "language_info": {
   "codemirror_mode": {
    "name": "ipython",
    "version": 3
   },
   "file_extension": ".py",
   "mimetype": "text/x-python",
   "name": "python",
   "nbconvert_exporter": "python",
   "pygments_lexer": "ipython3",
   "version": "3.11.11"
  }
 },
 "nbformat": 4,
 "nbformat_minor": 5
}
